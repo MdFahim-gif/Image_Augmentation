{
 "cells": [
  {
   "cell_type": "code",
   "execution_count": 1,
   "id": "4983f26e",
   "metadata": {},
   "outputs": [],
   "source": [
    "import tensorflow as tf\n"
   ]
  },
  {
   "cell_type": "code",
   "execution_count": 2,
   "id": "720b2f53",
   "metadata": {},
   "outputs": [
    {
     "data": {
      "text/plain": [
       "'2.13.0'"
      ]
     },
     "execution_count": 2,
     "metadata": {},
     "output_type": "execute_result"
    }
   ],
   "source": [
    "tf. __version__\n"
   ]
  },
  {
   "cell_type": "code",
   "execution_count": 3,
   "id": "39dbd11b",
   "metadata": {},
   "outputs": [],
   "source": [
    "import keras"
   ]
  },
  {
   "cell_type": "code",
   "execution_count": 4,
   "id": "2e5098d5",
   "metadata": {},
   "outputs": [
    {
     "data": {
      "text/plain": [
       "'2.13.1'"
      ]
     },
     "execution_count": 4,
     "metadata": {},
     "output_type": "execute_result"
    }
   ],
   "source": [
    "keras. __version__\n"
   ]
  },
  {
   "cell_type": "code",
   "execution_count": 5,
   "id": "0f14589a",
   "metadata": {},
   "outputs": [],
   "source": [
    "from keras.preprocessing.image import ImageDataGenerator\n",
    "from skimage import io"
   ]
  },
  {
   "cell_type": "code",
   "execution_count": 19,
   "id": "3085ff04",
   "metadata": {},
   "outputs": [],
   "source": [
    "datagent=ImageDataGenerator(\n",
    "        rotation_range=45,\n",
    "        height_shift_range=0.3,\n",
    "        width_shift_range=0.3,\n",
    "        shear_range=0.2,\n",
    "        zoom_range=0.2,\n",
    "        horizontal_flip=True,\n",
    "        brightness_range=[0.8, 1.2],\n",
    "        channel_shift_range=50,\n",
    "        fill_mode='constant',cval=125)"
   ]
  },
  {
   "cell_type": "code",
   "execution_count": 20,
   "id": "9ce8aa9b",
   "metadata": {},
   "outputs": [],
   "source": [
    "x=io.imread(r'C:\\Users\\HP\\Downloads\\Watermelon\\WL4.jpg')"
   ]
  },
  {
   "cell_type": "code",
   "execution_count": 21,
   "id": "2f2d4e0e",
   "metadata": {},
   "outputs": [
    {
     "name": "stdout",
     "output_type": "stream",
     "text": [
      "Image shape (2448, 3264, 3)\n"
     ]
    }
   ],
   "source": [
    "image_shape=x.shape\n",
    "print(\"Image shape\",image_shape)"
   ]
  },
  {
   "cell_type": "code",
   "execution_count": 22,
   "id": "43f33882",
   "metadata": {},
   "outputs": [],
   "source": [
    "x=x.reshape((1,)+ x.shape)"
   ]
  },
  {
   "cell_type": "code",
   "execution_count": 23,
   "id": "6f90da54",
   "metadata": {},
   "outputs": [
    {
     "name": "stdout",
     "output_type": "stream",
     "text": [
      "Image shape (1, 2448, 3264, 3)\n"
     ]
    }
   ],
   "source": [
    "image_shape=x.shape\n",
    "print(\"Image shape\",image_shape)"
   ]
  },
  {
   "cell_type": "code",
   "execution_count": 24,
   "id": "7c15a1f5",
   "metadata": {},
   "outputs": [],
   "source": [
    "i=0\n",
    "for batch in datagent.flow(x,batch_size=32,\n",
    "                          save_to_dir=r'C:\\Users\\HP\\Downloads\\Watermelon\\Augmentation4',\n",
    "                          save_prefix='well leaf',\n",
    "                          save_format='jpg'):\n",
    "    i +=1\n",
    "    if i>30:\n",
    "        break"
   ]
  },
  {
   "cell_type": "code",
   "execution_count": null,
   "id": "ca7bb495",
   "metadata": {},
   "outputs": [],
   "source": []
  }
 ],
 "metadata": {
  "kernelspec": {
   "display_name": "Python 3 (ipykernel)",
   "language": "python",
   "name": "python3"
  },
  "language_info": {
   "codemirror_mode": {
    "name": "ipython",
    "version": 3
   },
   "file_extension": ".py",
   "mimetype": "text/x-python",
   "name": "python",
   "nbconvert_exporter": "python",
   "pygments_lexer": "ipython3",
   "version": "3.9.13"
  }
 },
 "nbformat": 4,
 "nbformat_minor": 5
}
